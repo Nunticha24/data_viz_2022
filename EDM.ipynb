{
  "nbformat": 4,
  "nbformat_minor": 0,
  "metadata": {
    "colab": {
      "name": "EDM.ipynb",
      "provenance": [],
      "authorship_tag": "ABX9TyMcFyZlbZ3bSkQWjMTf5coM",
      "include_colab_link": true
    },
    "kernelspec": {
      "name": "python3",
      "display_name": "Python 3"
    },
    "language_info": {
      "name": "python"
    }
  },
  "cells": [
    {
      "cell_type": "markdown",
      "metadata": {
        "id": "view-in-github",
        "colab_type": "text"
      },
      "source": [
        "<a href=\"https://colab.research.google.com/github/Nunticha24/data_viz_2022/blob/main/EDM.ipynb\" target=\"_parent\"><img src=\"https://colab.research.google.com/assets/colab-badge.svg\" alt=\"Open In Colab\"/></a>"
      ]
    },
    {
      "cell_type": "code",
      "execution_count": 1,
      "metadata": {
        "id": "EEC3Q-oXZXp2"
      },
      "outputs": [],
      "source": [
        "import pandas as pd\n",
        "import os"
      ]
    },
    {
      "cell_type": "code",
      "source": [
        "from google.colab import drive\n",
        "drive.mount('/content/drive')\n",
        "path = '/content/drive/My Drive/EDM'"
      ],
      "metadata": {
        "colab": {
          "base_uri": "https://localhost:8080/"
        },
        "id": "qySdiwHEZb6Z",
        "outputId": "70fa45c3-714b-4ebe-d243-5c2f36500d9b"
      },
      "execution_count": 2,
      "outputs": [
        {
          "output_type": "stream",
          "name": "stdout",
          "text": [
            "Mounted at /content/drive\n"
          ]
        }
      ]
    },
    {
      "cell_type": "code",
      "source": [
        "data_file_path = os.path.join(path,'EDM.xlsx')   \n",
        "data = pd.read_excel(data_file_path)"
      ],
      "metadata": {
        "id": "YDS-sCA7ZjgE"
      },
      "execution_count": 5,
      "outputs": []
    },
    {
      "cell_type": "code",
      "source": [
        "data"
      ],
      "metadata": {
        "colab": {
          "base_uri": "https://localhost:8080/",
          "height": 423
        },
        "id": "QKCuJJdaZ8LX",
        "outputId": "74023e78-f26f-403b-f70e-1d29c27a6525"
      },
      "execution_count": 6,
      "outputs": [
        {
          "output_type": "execute_result",
          "data": {
            "text/html": [
              "\n",
              "  <div id=\"df-1233a4d8-2281-45cd-8956-351ae0008b84\">\n",
              "    <div class=\"colab-df-container\">\n",
              "      <div>\n",
              "<style scoped>\n",
              "    .dataframe tbody tr th:only-of-type {\n",
              "        vertical-align: middle;\n",
              "    }\n",
              "\n",
              "    .dataframe tbody tr th {\n",
              "        vertical-align: top;\n",
              "    }\n",
              "\n",
              "    .dataframe thead th {\n",
              "        text-align: right;\n",
              "    }\n",
              "</style>\n",
              "<table border=\"1\" class=\"dataframe\">\n",
              "  <thead>\n",
              "    <tr style=\"text-align: right;\">\n",
              "      <th></th>\n",
              "      <th>year</th>\n",
              "      <th>quarter</th>\n",
              "      <th>region</th>\n",
              "      <th>area</th>\n",
              "      <th>industry</th>\n",
              "      <th>value</th>\n",
              "      <th>unit</th>\n",
              "      <th>source</th>\n",
              "    </tr>\n",
              "  </thead>\n",
              "  <tbody>\n",
              "    <tr>\n",
              "      <th>0</th>\n",
              "      <td>2558</td>\n",
              "      <td>ไตรมาสที่ 1</td>\n",
              "      <td>ทั่วประเทศ</td>\n",
              "      <td>รวม</td>\n",
              "      <td>ภาคเกษตรกรรม (รวม)</td>\n",
              "      <td>30.48</td>\n",
              "      <td>ร้อยละ</td>\n",
              "      <td>สำนักงานสถิติแห่งชาติ</td>\n",
              "    </tr>\n",
              "    <tr>\n",
              "      <th>1</th>\n",
              "      <td>2558</td>\n",
              "      <td>ไตรมาสที่ 3</td>\n",
              "      <td>ภาคตะวันออกเฉียงเหนือ</td>\n",
              "      <td>รวม</td>\n",
              "      <td>ภาคเกษตรกรรม (รวม)</td>\n",
              "      <td>55.72</td>\n",
              "      <td>ร้อยละ</td>\n",
              "      <td>สำนักงานสถิติแห่งชาติ</td>\n",
              "    </tr>\n",
              "    <tr>\n",
              "      <th>2</th>\n",
              "      <td>2559</td>\n",
              "      <td>ไตรมาสที่ 2</td>\n",
              "      <td>ภาคกลาง</td>\n",
              "      <td>รวม</td>\n",
              "      <td>ภาคเกษตรกรรม (รวม)</td>\n",
              "      <td>17.33</td>\n",
              "      <td>ร้อยละ</td>\n",
              "      <td>สำนักงานสถิติแห่งชาติ</td>\n",
              "    </tr>\n",
              "    <tr>\n",
              "      <th>3</th>\n",
              "      <td>2559</td>\n",
              "      <td>ไตรมาสที่ 4</td>\n",
              "      <td>ภาคใต้</td>\n",
              "      <td>ในเขตเทศบาล</td>\n",
              "      <td>ภาคเกษตรกรรม (รวม)</td>\n",
              "      <td>18.50</td>\n",
              "      <td>ร้อยละ</td>\n",
              "      <td>สำนักงานสถิติแห่งชาติ</td>\n",
              "    </tr>\n",
              "    <tr>\n",
              "      <th>4</th>\n",
              "      <td>2560</td>\n",
              "      <td>ไตรมาสที่ 3</td>\n",
              "      <td>ภาคเหนือ</td>\n",
              "      <td>ในเขตเทศบาล</td>\n",
              "      <td>ภาคเกษตรกรรม (รวม)</td>\n",
              "      <td>26.10</td>\n",
              "      <td>ร้อยละ</td>\n",
              "      <td>สำนักงานสถิติแห่งชาติ</td>\n",
              "    </tr>\n",
              "    <tr>\n",
              "      <th>...</th>\n",
              "      <td>...</td>\n",
              "      <td>...</td>\n",
              "      <td>...</td>\n",
              "      <td>...</td>\n",
              "      <td>...</td>\n",
              "      <td>...</td>\n",
              "      <td>...</td>\n",
              "      <td>...</td>\n",
              "    </tr>\n",
              "    <tr>\n",
              "      <th>7917</th>\n",
              "      <td>2563</td>\n",
              "      <td>ไตรมาสที่ 2</td>\n",
              "      <td>ทั่วประเทศ</td>\n",
              "      <td>ในเขตเทศบาล</td>\n",
              "      <td>นอกภาคเกษตรกรรม (ไม่ทราบ)</td>\n",
              "      <td>0.30</td>\n",
              "      <td>ร้อยละ</td>\n",
              "      <td>สำนักงานสถิติแห่งชาติ</td>\n",
              "    </tr>\n",
              "    <tr>\n",
              "      <th>7918</th>\n",
              "      <td>2563</td>\n",
              "      <td>ไตรมาสที่ 2</td>\n",
              "      <td>กรุงเทพมหานคร</td>\n",
              "      <td>ในเขตเทศบาล</td>\n",
              "      <td>นอกภาคเกษตรกรรม (ไม่ทราบ)</td>\n",
              "      <td>0.80</td>\n",
              "      <td>ร้อยละ</td>\n",
              "      <td>สำนักงานสถิติแห่งชาติ</td>\n",
              "    </tr>\n",
              "    <tr>\n",
              "      <th>7919</th>\n",
              "      <td>2563</td>\n",
              "      <td>ไตรมาสที่ 2</td>\n",
              "      <td>ภาคกลาง</td>\n",
              "      <td>รวม</td>\n",
              "      <td>นอกภาคเกษตรกรรม (ไม่ทราบ)</td>\n",
              "      <td>0.10</td>\n",
              "      <td>ร้อยละ</td>\n",
              "      <td>สำนักงานสถิติแห่งชาติ</td>\n",
              "    </tr>\n",
              "    <tr>\n",
              "      <th>7920</th>\n",
              "      <td>2563</td>\n",
              "      <td>ไตรมาสที่ 2</td>\n",
              "      <td>ภาคกลาง</td>\n",
              "      <td>ในเขตเทศบาล</td>\n",
              "      <td>นอกภาคเกษตรกรรม (ไม่ทราบ)</td>\n",
              "      <td>0.10</td>\n",
              "      <td>ร้อยละ</td>\n",
              "      <td>สำนักงานสถิติแห่งชาติ</td>\n",
              "    </tr>\n",
              "    <tr>\n",
              "      <th>7921</th>\n",
              "      <td>2563</td>\n",
              "      <td>ไตรมาสที่ 2</td>\n",
              "      <td>ภาคกลาง</td>\n",
              "      <td>นอกเขตเทศบาล</td>\n",
              "      <td>นอกภาคเกษตรกรรม (ไม่ทราบ)</td>\n",
              "      <td>0.10</td>\n",
              "      <td>ร้อยละ</td>\n",
              "      <td>สำนักงานสถิติแห่งชาติ</td>\n",
              "    </tr>\n",
              "  </tbody>\n",
              "</table>\n",
              "<p>7922 rows × 8 columns</p>\n",
              "</div>\n",
              "      <button class=\"colab-df-convert\" onclick=\"convertToInteractive('df-1233a4d8-2281-45cd-8956-351ae0008b84')\"\n",
              "              title=\"Convert this dataframe to an interactive table.\"\n",
              "              style=\"display:none;\">\n",
              "        \n",
              "  <svg xmlns=\"http://www.w3.org/2000/svg\" height=\"24px\"viewBox=\"0 0 24 24\"\n",
              "       width=\"24px\">\n",
              "    <path d=\"M0 0h24v24H0V0z\" fill=\"none\"/>\n",
              "    <path d=\"M18.56 5.44l.94 2.06.94-2.06 2.06-.94-2.06-.94-.94-2.06-.94 2.06-2.06.94zm-11 1L8.5 8.5l.94-2.06 2.06-.94-2.06-.94L8.5 2.5l-.94 2.06-2.06.94zm10 10l.94 2.06.94-2.06 2.06-.94-2.06-.94-.94-2.06-.94 2.06-2.06.94z\"/><path d=\"M17.41 7.96l-1.37-1.37c-.4-.4-.92-.59-1.43-.59-.52 0-1.04.2-1.43.59L10.3 9.45l-7.72 7.72c-.78.78-.78 2.05 0 2.83L4 21.41c.39.39.9.59 1.41.59.51 0 1.02-.2 1.41-.59l7.78-7.78 2.81-2.81c.8-.78.8-2.07 0-2.86zM5.41 20L4 18.59l7.72-7.72 1.47 1.35L5.41 20z\"/>\n",
              "  </svg>\n",
              "      </button>\n",
              "      \n",
              "  <style>\n",
              "    .colab-df-container {\n",
              "      display:flex;\n",
              "      flex-wrap:wrap;\n",
              "      gap: 12px;\n",
              "    }\n",
              "\n",
              "    .colab-df-convert {\n",
              "      background-color: #E8F0FE;\n",
              "      border: none;\n",
              "      border-radius: 50%;\n",
              "      cursor: pointer;\n",
              "      display: none;\n",
              "      fill: #1967D2;\n",
              "      height: 32px;\n",
              "      padding: 0 0 0 0;\n",
              "      width: 32px;\n",
              "    }\n",
              "\n",
              "    .colab-df-convert:hover {\n",
              "      background-color: #E2EBFA;\n",
              "      box-shadow: 0px 1px 2px rgba(60, 64, 67, 0.3), 0px 1px 3px 1px rgba(60, 64, 67, 0.15);\n",
              "      fill: #174EA6;\n",
              "    }\n",
              "\n",
              "    [theme=dark] .colab-df-convert {\n",
              "      background-color: #3B4455;\n",
              "      fill: #D2E3FC;\n",
              "    }\n",
              "\n",
              "    [theme=dark] .colab-df-convert:hover {\n",
              "      background-color: #434B5C;\n",
              "      box-shadow: 0px 1px 3px 1px rgba(0, 0, 0, 0.15);\n",
              "      filter: drop-shadow(0px 1px 2px rgba(0, 0, 0, 0.3));\n",
              "      fill: #FFFFFF;\n",
              "    }\n",
              "  </style>\n",
              "\n",
              "      <script>\n",
              "        const buttonEl =\n",
              "          document.querySelector('#df-1233a4d8-2281-45cd-8956-351ae0008b84 button.colab-df-convert');\n",
              "        buttonEl.style.display =\n",
              "          google.colab.kernel.accessAllowed ? 'block' : 'none';\n",
              "\n",
              "        async function convertToInteractive(key) {\n",
              "          const element = document.querySelector('#df-1233a4d8-2281-45cd-8956-351ae0008b84');\n",
              "          const dataTable =\n",
              "            await google.colab.kernel.invokeFunction('convertToInteractive',\n",
              "                                                     [key], {});\n",
              "          if (!dataTable) return;\n",
              "\n",
              "          const docLinkHtml = 'Like what you see? Visit the ' +\n",
              "            '<a target=\"_blank\" href=https://colab.research.google.com/notebooks/data_table.ipynb>data table notebook</a>'\n",
              "            + ' to learn more about interactive tables.';\n",
              "          element.innerHTML = '';\n",
              "          dataTable['output_type'] = 'display_data';\n",
              "          await google.colab.output.renderOutput(dataTable, element);\n",
              "          const docLink = document.createElement('div');\n",
              "          docLink.innerHTML = docLinkHtml;\n",
              "          element.appendChild(docLink);\n",
              "        }\n",
              "      </script>\n",
              "    </div>\n",
              "  </div>\n",
              "  "
            ],
            "text/plain": [
              "      year      quarter  ...    unit                 source\n",
              "0     2558  ไตรมาสที่ 1  ...  ร้อยละ  สำนักงานสถิติแห่งชาติ\n",
              "1     2558  ไตรมาสที่ 3  ...  ร้อยละ  สำนักงานสถิติแห่งชาติ\n",
              "2     2559  ไตรมาสที่ 2  ...  ร้อยละ  สำนักงานสถิติแห่งชาติ\n",
              "3     2559  ไตรมาสที่ 4  ...  ร้อยละ  สำนักงานสถิติแห่งชาติ\n",
              "4     2560  ไตรมาสที่ 3  ...  ร้อยละ  สำนักงานสถิติแห่งชาติ\n",
              "...    ...          ...  ...     ...                    ...\n",
              "7917  2563  ไตรมาสที่ 2  ...  ร้อยละ  สำนักงานสถิติแห่งชาติ\n",
              "7918  2563  ไตรมาสที่ 2  ...  ร้อยละ  สำนักงานสถิติแห่งชาติ\n",
              "7919  2563  ไตรมาสที่ 2  ...  ร้อยละ  สำนักงานสถิติแห่งชาติ\n",
              "7920  2563  ไตรมาสที่ 2  ...  ร้อยละ  สำนักงานสถิติแห่งชาติ\n",
              "7921  2563  ไตรมาสที่ 2  ...  ร้อยละ  สำนักงานสถิติแห่งชาติ\n",
              "\n",
              "[7922 rows x 8 columns]"
            ]
          },
          "metadata": {},
          "execution_count": 6
        }
      ]
    },
    {
      "cell_type": "code",
      "source": [
        "data.shape"
      ],
      "metadata": {
        "colab": {
          "base_uri": "https://localhost:8080/"
        },
        "id": "nP20_LgLaLCL",
        "outputId": "a703a8f5-019d-45b4-ef24-064c4ce0bcf0"
      },
      "execution_count": 7,
      "outputs": [
        {
          "output_type": "execute_result",
          "data": {
            "text/plain": [
              "(7922, 8)"
            ]
          },
          "metadata": {},
          "execution_count": 7
        }
      ]
    },
    {
      "cell_type": "markdown",
      "source": [
        "#ตรวจสอบ Missing"
      ],
      "metadata": {
        "id": "QeA0T6w4a1qT"
      }
    },
    {
      "cell_type": "code",
      "source": [
        "data.isnull().any()"
      ],
      "metadata": {
        "colab": {
          "base_uri": "https://localhost:8080/"
        },
        "id": "ExbStXqpa6er",
        "outputId": "8547aa50-e68f-4ea9-d5e8-a2d68b03ca2f"
      },
      "execution_count": 8,
      "outputs": [
        {
          "output_type": "execute_result",
          "data": {
            "text/plain": [
              "year        False\n",
              "quarter     False\n",
              "region      False\n",
              "area        False\n",
              "industry    False\n",
              "value       False\n",
              "unit        False\n",
              "source      False\n",
              "dtype: bool"
            ]
          },
          "metadata": {},
          "execution_count": 8
        }
      ]
    }
  ]
}